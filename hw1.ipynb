{
 "cells": [
  {
   "cell_type": "code",
   "execution_count": null,
   "id": "18042e0f-aa1d-40eb-bba5-2bc7bb18eaa5",
   "metadata": {},
   "outputs": [],
   "source": [
    "def convert_number(): \n",
    "    num = int(input(\"請輸入一個 0-255 之間的數字:\")) \n",
    "    if <= num <= 255: \n",
    "        f\"(num:08b) binary_representation = hex_representation = f\"(num:02x)\" Poly print(f\"二進位:《binary_representation}\") print(f\"十六進位:《hex_representation}\") else: ztreor lysis nt Ana cedure print(\"請輸入有效範圍內的數字(e-255)!\") if _name == \"_main_\": convert_number()"
   ]
  }
 ],
 "metadata": {
  "kernelspec": {
   "display_name": "Python 3 (ipykernel)",
   "language": "python",
   "name": "python3"
  },
  "language_info": {
   "codemirror_mode": {
    "name": "ipython",
    "version": 3
   },
   "file_extension": ".py",
   "mimetype": "text/x-python",
   "name": "python",
   "nbconvert_exporter": "python",
   "pygments_lexer": "ipython3",
   "version": "3.12.7"
  }
 },
 "nbformat": 4,
 "nbformat_minor": 5
}
